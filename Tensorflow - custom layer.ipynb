{
 "cells": [
  {
   "cell_type": "markdown",
   "id": "a6d9a5fd",
   "metadata": {},
   "source": [
    "**Create two custom layers in TensorFlow that add two inputs and multiply two inputs\n",
    "respectively.Add layer names and other things that are present in other common\n",
    "layers in TensorFlow.**\n",
    "\n",
    "1. **Custom Layer Definition**:\n",
    "   Two custom layers (`AddLayer` and `MultiplyLayer`) are defined as subclasses of `tf.keras.layers.Layer`. These layers implement the `call` method, which specifies the layer's computation when called during model execution.\n",
    "\n",
    "2. **Addition Layer**:\n",
    "    `AddLayer` takes two input tensors and performs element-wise addition.\n",
    "\n",
    "3. **Multiplication Layer**:\n",
    "    `MultiplyLayer` takes two input tensors and performs element-wise multiplication.\n",
    "\n",
    "4. **Layer Instances**:\n",
    "    Instances of the custom layers (`add_layer` and `multiply_layer`) are created for later use.\n"
   ]
  },
  {
   "cell_type": "code",
   "execution_count": 1,
   "id": "c7ba8dd0",
   "metadata": {},
   "outputs": [],
   "source": [
    "import tensorflow as tf\n",
    "\n",
    "# Define a custom layer that performs element-wise addition\n",
    "class AddLayer(tf.keras.layers.Layer):\n",
    "    def call(self, inputs):\n",
    "        return tf.math.add(inputs[0], inputs[1])\n",
    "    \n",
    "# Define a custom layer that performs element-wise addition\n",
    "class MultiplyLayer(tf.keras.layers.Layer):\n",
    "    def call(self, inputs):\n",
    "        return tf.math.multiply(inputs[0], inputs[1])\n",
    "\n",
    "# Example Usage\n",
    "# Create instances of the custom layers\n",
    "add_layer = AddLayer(name=\"custom_add_layer\")\n",
    "multiply_layer = MultiplyLayer(name=\"custom_multiply_layer\")\n"
   ]
  },
  {
   "cell_type": "markdown",
   "id": "6cfa9b45",
   "metadata": {},
   "source": [
    "**Combine these two layers in a third custom layer. Concatenate them or multiply\n",
    "them etc.**\n",
    "\n",
    "1. **Combined Layer Definition:**\n",
    "   - `CombinedLayer` is a custom layer that combines the output of two custom layers.\n",
    "\n",
    "2. **Combination in `call` Method:**\n",
    "   - In the `call` method, the inputs are processed separately by the addition and multiplication layers. The outputs are then combined using a chosen method, such as concatenation along the last axis.\n",
    "\n",
    "\n"
   ]
  },
  {
   "cell_type": "code",
   "execution_count": 3,
   "id": "178fa22e",
   "metadata": {},
   "outputs": [],
   "source": [
    "class CombinedLayer(tf.keras.layers.Layer):\n",
    "    def __init__(self, name=None):\n",
    "        super(CombinedLayer, self).__init__(name=name)\n",
    "        self.add_layer = AddLayer()\n",
    "        self.multiply_layer = MultiplyLayer()\n",
    "\n",
    "    def call(self, inputs):\n",
    "        # Perform addition and multiplication using the custom layers\n",
    "        added = self.add_layer(inputs)\n",
    "        multiplied = self.multiply_layer(inputs)\n",
    "        # Choose how to combine (e.g., concatenate)\n",
    "        combined_output = tf.concat([added, multiplied], axis=-1)\n",
    "        return combined_output\n",
    "\n",
    "# Example Usage with name argument\n",
    "# Create an instance of the combined layer\n",
    "combined_layer = CombinedLayer(name=\"custom_combined_layer\")\n",
    "\n"
   ]
  },
  {
   "cell_type": "markdown",
   "id": "f4784764",
   "metadata": {},
   "source": [
    "**Create a model using these and observe how batch inference works**\n",
    "\n",
    "1. **Input Layers:**\n",
    "   - Two input layers (`tf.keras.layers.Input`) are defined.\n",
    "\n",
    "2. **Model Definition:**\n",
    "   - A TensorFlow model is defined (`model`) with the input layers and the combined output\n",
    "\n",
    "3. **Batch Inference:**\n",
    "   - The model is used to make predictions (`predictions = model.predict(input_data)`) on the batch of input data.\n",
    "\n",
    "\n"
   ]
  },
  {
   "cell_type": "code",
   "execution_count": 4,
   "id": "fd33f738",
   "metadata": {},
   "outputs": [
    {
     "name": "stdout",
     "output_type": "stream",
     "text": [
      "1/1 [==============================] - 2s 2s/step\n",
      "[[1.2808465  1.1958187  0.5038748  0.7961899  1.4557127  1.1049786\n",
      "  0.74600554 1.17818    1.220435   0.38220486 0.3673247  0.22865993\n",
      "  0.7398205  1.493943   1.2104337  0.8881916  1.4970508  0.762259\n",
      "  0.6555213  0.41933447 1.2750549  0.27285028 0.7809219  1.4703648\n",
      "  0.94488627 1.1912961  0.3916601  0.7682205  0.78415716 0.6499459\n",
      "  1.3397107  1.2073834  0.3487532  0.35141256 0.06340505 0.158349\n",
      "  0.4979838  0.30367756 0.07971493 0.32241485 0.3470811  0.0345061\n",
      "  0.01409855 0.00989399 0.1109949  0.5437152  0.23996052 0.16348116\n",
      "  0.53057396 0.11793213 0.10289855 0.04114618 0.36555204 0.01185524\n",
      "  0.04750951 0.5307637  0.20664597 0.22068954 0.028815   0.14684638\n",
      "  0.13072552 0.10173478 0.44839016 0.35432324]\n",
      " [1.1908488  1.129861   1.0152359  0.4667157  0.600024   0.9442382\n",
      "  1.2322474  1.1870942  0.45147562 1.2150578  0.7745786  0.6711526\n",
      "  1.4902107  0.3409686  0.19396134 0.3917206  1.0625856  1.7786443\n",
      "  1.5943555  1.3644753  1.2055998  0.7104043  1.5615973  1.5511737\n",
      "  0.98446417 0.9980079  1.3510681  1.0498524  0.85157526 0.77419984\n",
      "  1.7268442  0.5369548  0.33789402 0.1520352  0.23978688 0.04977375\n",
      "  0.07573484 0.17631426 0.3693795  0.29995152 0.04969285 0.361324\n",
      "  0.09322858 0.04773115 0.5421274  0.02192553 0.00378579 0.02426649\n",
      "  0.24667571 0.7902487  0.61098784 0.449348   0.35850662 0.02948779\n",
      "  0.57716316 0.6013207  0.14722976 0.18644945 0.42669117 0.268416\n",
      "  0.13453357 0.0261068  0.7312815  0.00985386]\n",
      " [1.6875839  0.5296285  1.0344906  1.3585796  1.1307561  1.2489328\n",
      "  0.8608838  1.2456443  1.9558809  1.1558675  0.658599   1.3495907\n",
      "  1.2211057  1.1764143  0.474302   1.152426   1.3549572  0.937834\n",
      "  1.5695693  0.9316033  1.0345397  1.651412   0.95079905 0.44149008\n",
      "  1.3464626  1.3039968  0.6962583  1.3502023  1.5689489  0.9013221\n",
      "  1.0103824  0.5862055  0.7026494  0.0401831  0.06120571 0.4603752\n",
      "  0.28044724 0.3438786  0.01685341 0.2812221  0.9562775  0.19061951\n",
      "  0.06010845 0.427679   0.34506938 0.31201032 0.05102875 0.27423263\n",
      "  0.42647755 0.21977837 0.6132793  0.18483752 0.03991843 0.66028094\n",
      "  0.03648795 0.01171142 0.4141993  0.382487   0.12069649 0.37095872\n",
      "  0.58894324 0.04201286 0.07118823 0.04997071]\n",
      " [0.7590026  0.18765825 0.6406565  0.7187516  1.4337978  1.3841712\n",
      "  0.96638286 1.1263448  0.76992756 1.3918172  0.9082006  0.7706623\n",
      "  0.9707436  1.0020356  0.3584706  0.56079125 0.74278474 0.34841412\n",
      "  1.206144   1.1958864  1.2110649  1.789293   1.7830715  1.2008889\n",
      "  0.2479929  0.5800454  1.228479   1.4894527  1.6070712  0.5409845\n",
      "  1.148083   1.1505383  0.13665274 0.00848855 0.09975987 0.05161546\n",
      "  0.5115779  0.47779736 0.15926263 0.25041288 0.00557394 0.43436533\n",
      "  0.01684712 0.09589478 0.02780689 0.24989906 0.01603552 0.03703724\n",
      "  0.07661214 0.02639174 0.2999576  0.2840692  0.2712929  0.78969187\n",
      "  0.7947978  0.22532648 0.0032984  0.06178205 0.36151335 0.55310524\n",
      "  0.62592226 0.04584798 0.31333232 0.19893824]\n",
      " [0.5685385  1.4565742  0.535774   1.2225921  0.2649328  0.25502968\n",
      "  1.1500529  1.2395825  0.940701   1.1874595  0.9965429  0.5953974\n",
      "  1.0574199  1.4325733  0.70191437 1.4635344  0.75057876 1.2390816\n",
      "  1.034857   0.23405436 0.9498032  1.4464175  0.7245483  0.5138389\n",
      "  0.71325463 1.2867216  1.5405977  1.9204627  0.703905   1.1385789\n",
      "  1.2030144  0.9529439  0.06188093 0.5211787  0.05188791 0.370816\n",
      "  0.01236124 0.01422516 0.29293343 0.25021255 0.21276212 0.3457781\n",
      "  0.08322103 0.0862342  0.18072385 0.4620166  0.09237175 0.4810663\n",
      "  0.11526947 0.36938843 0.13644269 0.00672416 0.17416213 0.51459545\n",
      "  0.02893933 0.01921857 0.10355215 0.3262379  0.5827196  0.9214902\n",
      "  0.10980871 0.26378095 0.36008957 0.09350806]]\n"
     ]
    }
   ],
   "source": [
    "# Define two input layers\n",
    "inputs = [tf.keras.layers.Input(shape=(32,)), tf.keras.layers.Input(shape=(32,))]\n",
    "# Create an instance of the CombinedLayer\n",
    "combined_output = combined_layer(inputs)\n",
    "\n",
    "# Build a model with the CombinedLayer\n",
    "model = tf.keras.models.Model(inputs=inputs, outputs=combined_output)\n",
    "\n",
    "# Generate random data for batch inference\n",
    "import numpy as np\n",
    "batch_size = 5\n",
    "input_data = [np.random.rand(batch_size, 32), np.random.rand(batch_size, 32)]\n",
    "\n",
    "# Make predictions\n",
    "predictions = model.predict(input_data)\n",
    "print(predictions)\n"
   ]
  },
  {
   "cell_type": "markdown",
   "id": "32e2f403",
   "metadata": {},
   "source": [
    "**Use a predefined layer in Tensorflow to split an input/image into 4x4 = 16 tiles**\n",
    "\n",
    "1. **Reshape Layer Definition:**\n",
    "   - `split_layer` is a custom layer defined using `tf.keras.layers.Reshape`. It reshapes the input tensor into a 4x4 grid by specifying the target shape as `(4, 4, -1)`. The `-1` in the shape indicates that TensorFlow should automatically infer the size of the last dimension based on the total number of elements.\n",
    "\n",
    "2. **Input Layer:**\n",
    "   - An input layer (`input_image`) is defined with a shape of (16,), representing an input image with 16 elements.\n",
    "\n"
   ]
  },
  {
   "cell_type": "code",
   "execution_count": 6,
   "id": "db6c6148",
   "metadata": {},
   "outputs": [
    {
     "name": "stdout",
     "output_type": "stream",
     "text": [
      "KerasTensor(type_spec=TensorSpec(shape=(None, 4, 4, 1), dtype=tf.float32, name=None), name='reshape_1/Reshape:0', description=\"created by layer 'reshape_1'\")\n"
     ]
    }
   ],
   "source": [
    "split_layer = tf.keras.layers.Reshape((4, 4, -1))\n",
    "\n",
    "# Create an input layer for an image with a shape of (16,)\n",
    "input_image = tf.keras.layers.Input(shape=(16,))\n",
    "split_output = split_layer(input_image)\n"
   ]
  },
  {
   "cell_type": "markdown",
   "id": "a3dd92ab",
   "metadata": {},
   "source": [
    "**Write a graph data structure in python with random connections between nodes.**\n",
    "\n",
    "1. **Graph Creation:**\n",
    "   - The code uses the NetworkX library to create a graph (`graph`) representing nodes and edges.\n",
    "\n",
    "2. **Node Addition:**\n",
    "   - Nodes are added to the graph using a loop to iterate over a specified number of nodes (`num_nodes`).\n",
    "\n",
    "3. **Random Edge Connections:**\n",
    "   - For each node in the graph, a random subset of other nodes is chosen as neighbors. The number of neighbors is determined by `random.randint(1, 3)`, creating a random and sparse connection structure.\n",
    "\n",
    "4. **Edge Addition:**\n",
    "   - Edges are added between each node and its selected neighbors, creating a random network structure.\n"
   ]
  },
  {
   "cell_type": "code",
   "execution_count": 8,
   "id": "a19c03d8",
   "metadata": {},
   "outputs": [
    {
     "name": "stderr",
     "output_type": "stream",
     "text": [
      "C:\\Users\\DELL\\AppData\\Local\\Temp\\ipykernel_2880\\1069569232.py:13: DeprecationWarning: Sampling from a set deprecated\n",
      "since Python 3.9 and will be removed in a subsequent version.\n",
      "  neighbors = random.sample(graph.nodes - {node}, k=random.randint(1, 3))\n"
     ]
    },
    {
     "data": {
      "image/png": "[encoded data removed]",
      "text/plain": [
       "<Figure size 640x480 with 1 Axes>"
      ]
     },
     "metadata": {},
     "output_type": "display_data"
    }
   ],
   "source": [
    "import networkx as nx\n",
    "import random\n",
    "import matplotlib.pyplot as plt\n",
    "\n",
    "# Create a random graph\n",
    "graph = nx.Graph()\n",
    "nodes = 10\n",
    "\n",
    "# Add nodes to the graph\n",
    "for i in range(nodes):\n",
    "    graph.add_node(i)\n",
    "\n",
    "# Connect Nodes Randomly\n",
    "for node in graph.nodes:\n",
    "    neighbors = random.sample(graph.nodes - {node}, k=random.randint(1, 3))\n",
    "    for neighbor in neighbors:\n",
    "        graph.add_edge(node, neighbor)\n",
    "\n",
    "# Draw the graph\n",
    "pos = nx.spring_layout(graph)  # you can choose a different layout if needed\n",
    "nx.draw(graph, pos, with_labels=True, font_weight='bold', node_size=700, node_color='skyblue', font_color='black', font_size=8)\n",
    "plt.show()\n"
   ]
  },
  {
   "cell_type": "markdown",
   "id": "a5e6403e",
   "metadata": {},
   "source": [
    "**Two-part question:**\n",
    "\n",
    "a. Do inference in one of the nodes and write any rules (>,<,==) to decide the\n",
    "next node based on the output (5 pts).\n",
    "\n",
    "b. You can choose to use the custom model you have created in questions 1 or\n",
    "2 inside the node. The input can be a random input created using\n",
    "random.randint(1,100). You can use any error correction techniques\n",
    "we used before.**\n",
    "\n",
    "1. **Model Inference:**\n",
    "   - The code uses a TensorFlow model (`model`) to perform inference on a randomly generated input (`random_input`). The model takes two identical inputs in this example.\n",
    "\n",
    "2. **Graph Node Selection:**\n",
    "   - A random node (`current_node`) is selected from the nodes in a graph.\n",
    "\n",
    "3. **Decision Rule:**\n",
    "   - An example decision rule based on the model's output is provided. If the output is positive, move to a random neighbor in the graph. If negative, move to a random node excluding the current one. If the output is zero, stay in the current node.\n",
    "\n",
    "4. **Graph Navigation:**\n",
    "   - The resulting `next_node` can be used for the next iteration or decision in the graph, depending on the specific application.\n",
    "\n"
   ]
  },
  {
   "cell_type": "code",
   "execution_count": 11,
   "id": "476204d8",
   "metadata": {},
   "outputs": [
    {
     "name": "stdout",
     "output_type": "stream",
     "text": [
      "1/1 [==============================] - 0s 110ms/step\n"
     ]
    }
   ],
   "source": [
    "import numpy as np\n",
    "import random\n",
    "\n",
    "# Assuming you have a model defined\n",
    "model = tf.keras.models.Model(inputs=inputs, outputs=combined_output)\n",
    "\n",
    "# Example Input\n",
    "random_input = np.random.randint(1, 100, size=(1, 32))\n",
    "output = model.predict([random_input, random_input])\n",
    "\n",
    "# Assume some initial node\n",
    "current_node = random.choice(list(graph.nodes))\n",
    "\n",
    "# Example Rule\n",
    "if np.any(output > 0):\n",
    "    # If the model output is positive, move to a random neighbor\n",
    "    next_node = random.choice(list(graph.neighbors(current_node)))\n",
    "elif np.any(output < 0):\n",
    "    # If the model output is negative, move to a random node excluding the current one\n",
    "    next_node = random.choice(list(graph.nodes - {current_node}))\n",
    "else:\n",
    "    # If the model output is zero, stay in the current node\n",
    "    next_node = current_node\n",
    "\n",
    "# Now you can use 'next_node' for the next iteration or decision in your graph.\n",
    "\n"
   ]
  },
  {
   "cell_type": "code",
   "execution_count": null,
   "id": "9a788aca",
   "metadata": {},
   "outputs": [],
   "source": []
  }
 ],
 "metadata": {
  "kernelspec": {
   "display_name": "Python 3 (ipykernel)",
   "language": "python",
   "name": "python3"
  },
  "language_info": {
   "codemirror_mode": {
    "name": "ipython",
    "version": 3
   },
   "file_extension": ".py",
   "mimetype": "text/x-python",
   "name": "python",
   "nbconvert_exporter": "python",
   "pygments_lexer": "ipython3",
   "version": "3.9.13"
  }
 },
 "nbformat": 4,
 "nbformat_minor": 5
}
